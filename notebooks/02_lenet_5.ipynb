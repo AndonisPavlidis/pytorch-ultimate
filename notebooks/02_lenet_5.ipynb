{
 "cells": [
  {
   "cell_type": "code",
   "execution_count": 2,
   "metadata": {},
   "outputs": [],
   "source": [
    "import matplotlib.pyplot as plt\n",
    "import numpy as np\n",
    "import torch\n",
    "import torch.nn as nn\n",
    "import torch.nn.functional as F\n",
    "import torchvision.transforms as transforms\n",
    "from torch.utils.data import DataLoader\n",
    "from torchvision.datasets import CIFAR10"
   ]
  },
  {
   "cell_type": "markdown",
   "metadata": {},
   "source": [
    "## Configs"
   ]
  },
  {
   "cell_type": "code",
   "execution_count": 3,
   "metadata": {},
   "outputs": [],
   "source": [
    "torch.use_deterministic_algorithms(True)"
   ]
  },
  {
   "cell_type": "markdown",
   "metadata": {},
   "source": [
    "## Create datasets"
   ]
  },
  {
   "cell_type": "code",
   "execution_count": 4,
   "metadata": {},
   "outputs": [
    {
     "name": "stdout",
     "output_type": "stream",
     "text": [
      "Files already downloaded and verified\n",
      "Files already downloaded and verified\n"
     ]
    }
   ],
   "source": [
    "train_data = CIFAR10(\n",
    "    root=\"./data\",\n",
    "    train=True,\n",
    "    download=True,\n",
    "    transform=transforms.Compose(\n",
    "        [\n",
    "            transforms.RandomHorizontalFlip(),\n",
    "            transforms.RandomCrop(32, 4),\n",
    "            transforms.ToTensor(),\n",
    "            transforms.Normalize((0.5, 0.5, 0.5), (0.5, 0.5, 0.5)),\n",
    "        ]\n",
    "    ),\n",
    ")\n",
    "\n",
    "\n",
    "test_data = CIFAR10(\n",
    "    root=\"./data\",\n",
    "    train=False,\n",
    "    download=True,\n",
    "    transform=transforms.Compose(\n",
    "        [\n",
    "            transforms.RandomHorizontalFlip(),\n",
    "            transforms.RandomCrop(32, 4),\n",
    "            transforms.ToTensor(),\n",
    "            transforms.Normalize((0.5, 0.5, 0.5), (0.5, 0.5, 0.5)),\n",
    "        ]\n",
    "    ),\n",
    ")"
   ]
  },
  {
   "cell_type": "code",
   "execution_count": 5,
   "metadata": {},
   "outputs": [],
   "source": [
    "train_data_loader = DataLoader(train_data, batch_size=8, shuffle=True)\n",
    "test_data_loader = DataLoader(test_data, batch_size=10000, shuffle=False)"
   ]
  },
  {
   "cell_type": "code",
   "execution_count": 6,
   "metadata": {},
   "outputs": [],
   "source": [
    "classes = [\"plane\", \"car\", \"bird\", \"cat\", \"deer\", \"dog\", \"frog\", \"horse\", \"ship\", \"truck\"]"
   ]
  },
  {
   "cell_type": "markdown",
   "metadata": {},
   "source": [
    "## Show a few examples"
   ]
  },
  {
   "cell_type": "code",
   "execution_count": 7,
   "metadata": {},
   "outputs": [],
   "source": [
    "def show_image(image, label, ax):\n",
    "    image = image * 0.5 + 0.5\n",
    "    np_image = image.numpy()\n",
    "    transposed_np_image = np.transpose(np_image, (1, 2, 0))\n",
    "\n",
    "    ax.imshow(transposed_np_image)\n",
    "    (ax.set_title(f\"{label}\"),)"
   ]
  },
  {
   "cell_type": "code",
   "execution_count": 8,
   "metadata": {},
   "outputs": [
    {
     "name": "stdout",
     "output_type": "stream",
     "text": [
      "torch.Size([3, 32, 32])\n",
      "tensor(1)\n"
     ]
    },
    {
     "data": {
      "image/png": "[encoded data removed]",
      "text/plain": [
       "<Figure size 400x400 with 4 Axes>"
      ]
     },
     "metadata": {},
     "output_type": "display_data"
    }
   ],
   "source": [
    "fig, axs = plt.subplots(2, 2, figsize=(4, 4))\n",
    "\n",
    "fig.tight_layout()\n",
    "axs = axs.flatten()\n",
    "\n",
    "\n",
    "train_data_iterator = iter(train_data_loader)\n",
    "images, labels = next(train_data_iterator)\n",
    "\n",
    "print(images[0].shape)\n",
    "print(labels[0])\n",
    "\n",
    "for i in range(4):\n",
    "    show_image(images[i], classes[labels[i]], axs[i])\n",
    "plt.show()"
   ]
  },
  {
   "cell_type": "markdown",
   "metadata": {},
   "source": [
    "## Create train-test"
   ]
  },
  {
   "cell_type": "code",
   "execution_count": 15,
   "metadata": {},
   "outputs": [],
   "source": [
    "def train(net, train_loader, optim, loss_fn, epoch):\n",
    "    \"\"\"Trains the given neural network model using the provided data loader, optimizer, and loss function for a specified number of epochs.\n",
    "\n",
    "    Args:\n",
    "        net: The neural network model to be trained.\n",
    "        train_loader: The data loader containing the training dataset.\n",
    "        optim: The optimizer used to update the model's parameters.\n",
    "        loss_fn: The loss function used to compute the training loss.\n",
    "        epoch: The current epoch number.\n",
    "    \"\"\"\n",
    "    net.train()\n",
    "    batch_loss = 0.0\n",
    "\n",
    "    for batch_idx, (batch_X_train, batch_y_train) in enumerate(train_loader):\n",
    "        optim.zero_grad()\n",
    "        y_pred = net(batch_X_train)\n",
    "        loss = loss_fn(y_pred, batch_y_train)\n",
    "        loss.backward()\n",
    "        optim.step()\n",
    "        batch_loss += loss.item()\n",
    "        if (batch_idx + 1) % 1000 == 0:\n",
    "            print(f\"[Epoch number : {epoch + 1}, Mini-batches: {batch_idx + 1}, Loss: {batch_loss / 1000}]\")\n",
    "\n",
    "            batch_loss = 0.0"
   ]
  },
  {
   "cell_type": "code",
   "execution_count": 16,
   "metadata": {},
   "outputs": [],
   "source": [
    "def test(net, test_loader):\n",
    "    \"\"\"Calculates the accuracy of the LeNet model on the test dataset.\n",
    "\n",
    "    Args:\n",
    "        net: The LeNet model.\n",
    "        test_loader: The data loader for the test dataset.\n",
    "    \"\"\"\n",
    "    net.eval()\n",
    "    success = 0\n",
    "    counter = 0\n",
    "    with torch.no_grad():\n",
    "        for (X_test, y_test) in test_loader:\n",
    "            y_pred = net(X_test)\n",
    "            _, pred = torch.max(y_pred.data, 1)\n",
    "            counter += y_test.size(0)\n",
    "            success += (pred == y_test).sum().item()\n",
    "    print(\"LeNet accuracy on 10000 images from test dataset: %d %%\" % (100 * success / counter))"
   ]
  },
  {
   "cell_type": "markdown",
   "metadata": {},
   "source": [
    "## Create LeNet-5"
   ]
  },
  {
   "cell_type": "code",
   "execution_count": null,
   "metadata": {},
   "outputs": [],
   "source": [
    "class LeNet(nn.Module):\n",
    "    \"\"\" \"LeNet-5\n",
    "\n",
    "    LeNet-5 is a convolutional neural network architecture that consists of two sets of convolutional and average pooling\n",
    "    layers , followed by three fully connected layers. The input to the network is a 3x32x32 image and the output is a\n",
    "    10-dimensional vector representing the class probabilities.\n",
    "    \"\"\"\n",
    "\n",
    "    def __init__(self):\n",
    "        super(LeNet, self).__init__()\n",
    "        self.conv1 = nn.Conv2d(in_channels=3, out_channels=6, kernel_size=5)\n",
    "        self.conv2 = nn.Conv2d(in_channels=6, out_channels=16, kernel_size=5)\n",
    "        self.flatten = nn.Flatten()\n",
    "        self.fc1 = nn.Linear(in_features=400, out_features=120)\n",
    "        self.fc2 = nn.Linear(in_features=120, out_features=84)\n",
    "        self.fc3 = nn.Linear(in_features=84, out_features=10)\n",
    "\n",
    "    def forward(self, x):\n",
    "        x = self.conv1(x)  # 3x32x32 -> 6x28x28\n",
    "        x = F.relu(x)  # 6x28x28\n",
    "        x = F.avg_pool2d(x, kernel_size=2, stride=2)  # 6x28x28 -> 6x14x14\n",
    "        x = self.conv2(x)  # 6x14x14 -> 16x10x10\n",
    "        x = F.relu(x)  # 16x10x10\n",
    "        x = F.avg_pool2d(x, kernel_size=2, stride=2)  # 6x10x10 -> 16x5x5\n",
    "        x = self.flatten(x)  # 16x5x5 -> 400\n",
    "        x = self.fc1(x)  # 400 -> 120\n",
    "        x = F.relu(x)  # 120\n",
    "        x = self.fc2(x)  # 120 -> 84\n",
    "        x = F.relu(x)  #\n",
    "        x = self.fc3(x)  # 84 -> 10\n",
    "\n",
    "        return x"
   ]
  },
  {
   "cell_type": "markdown",
   "metadata": {},
   "source": [
    "## Train-test model"
   ]
  },
  {
   "cell_type": "code",
   "execution_count": 17,
   "metadata": {},
   "outputs": [
    {
     "name": "stdout",
     "output_type": "stream",
     "text": [
      "[Epoch number : 1, Mini-batches: 1000, Loss: 1.9910785140991212]\n",
      "[Epoch number : 1, Mini-batches: 2000, Loss: 1.7708351353406906]\n",
      "[Epoch number : 1, Mini-batches: 3000, Loss: 1.6991750336289406]\n",
      "[Epoch number : 1, Mini-batches: 4000, Loss: 1.6353608554005623]\n",
      "[Epoch number : 1, Mini-batches: 5000, Loss: 1.6015805570483208]\n",
      "[Epoch number : 1, Mini-batches: 6000, Loss: 1.5725669294595719]\n",
      "\n",
      "LeNet accuracy on 10000 images from test dataset: 43 %\n",
      "\n",
      "[Epoch number : 2, Mini-batches: 1000, Loss: 1.5069671021103859]\n",
      "[Epoch number : 2, Mini-batches: 2000, Loss: 1.5248159408867359]\n",
      "[Epoch number : 2, Mini-batches: 3000, Loss: 1.498839440345764]\n",
      "[Epoch number : 2, Mini-batches: 4000, Loss: 1.4630525279045106]\n",
      "[Epoch number : 2, Mini-batches: 5000, Loss: 1.4821997048258782]\n",
      "[Epoch number : 2, Mini-batches: 6000, Loss: 1.4345283633172512]\n",
      "\n",
      "LeNet accuracy on 10000 images from test dataset: 48 %\n",
      "\n",
      "[Epoch number : 3, Mini-batches: 1000, Loss: 1.4241949374973775]\n",
      "[Epoch number : 3, Mini-batches: 2000, Loss: 1.4194055362343787]\n",
      "[Epoch number : 3, Mini-batches: 3000, Loss: 1.4115968955755234]\n",
      "[Epoch number : 3, Mini-batches: 4000, Loss: 1.3921282282471656]\n",
      "[Epoch number : 3, Mini-batches: 5000, Loss: 1.3656167858541013]\n",
      "[Epoch number : 3, Mini-batches: 6000, Loss: 1.3867028792202474]\n",
      "\n",
      "LeNet accuracy on 10000 images from test dataset: 50 %\n",
      "\n",
      "[Epoch number : 4, Mini-batches: 1000, Loss: 1.3456409937739373]\n",
      "[Epoch number : 4, Mini-batches: 2000, Loss: 1.3479549393057824]\n",
      "[Epoch number : 4, Mini-batches: 3000, Loss: 1.3482315714657307]\n",
      "[Epoch number : 4, Mini-batches: 4000, Loss: 1.331179901689291]\n",
      "[Epoch number : 4, Mini-batches: 5000, Loss: 1.31697618791461]\n",
      "[Epoch number : 4, Mini-batches: 6000, Loss: 1.338005798369646]\n",
      "\n",
      "LeNet accuracy on 10000 images from test dataset: 51 %\n",
      "\n",
      "[Epoch number : 5, Mini-batches: 1000, Loss: 1.2990241802036762]\n",
      "[Epoch number : 5, Mini-batches: 2000, Loss: 1.2877734324932097]\n",
      "[Epoch number : 5, Mini-batches: 3000, Loss: 1.3014095134735106]\n",
      "[Epoch number : 5, Mini-batches: 4000, Loss: 1.297223519653082]\n",
      "[Epoch number : 5, Mini-batches: 5000, Loss: 1.300182086467743]\n",
      "[Epoch number : 5, Mini-batches: 6000, Loss: 1.2784524627029896]\n",
      "\n",
      "LeNet accuracy on 10000 images from test dataset: 54 %\n",
      "\n",
      "[Epoch number : 6, Mini-batches: 1000, Loss: 1.2616398954689503]\n",
      "[Epoch number : 6, Mini-batches: 2000, Loss: 1.2543711400330066]\n",
      "[Epoch number : 6, Mini-batches: 3000, Loss: 1.269339116215706]\n",
      "[Epoch number : 6, Mini-batches: 4000, Loss: 1.2692447977513075]\n",
      "[Epoch number : 6, Mini-batches: 5000, Loss: 1.2698429133594036]\n",
      "[Epoch number : 6, Mini-batches: 6000, Loss: 1.251017620652914]\n",
      "\n",
      "LeNet accuracy on 10000 images from test dataset: 55 %\n",
      "\n",
      "[Epoch number : 7, Mini-batches: 1000, Loss: 1.2495721227228642]\n",
      "[Epoch number : 7, Mini-batches: 2000, Loss: 1.2200037288367749]\n",
      "[Epoch number : 7, Mini-batches: 3000, Loss: 1.2340003938376904]\n",
      "[Epoch number : 7, Mini-batches: 4000, Loss: 1.2313906357884408]\n",
      "[Epoch number : 7, Mini-batches: 5000, Loss: 1.232429899841547]\n",
      "[Epoch number : 7, Mini-batches: 6000, Loss: 1.245060346752405]\n",
      "\n",
      "LeNet accuracy on 10000 images from test dataset: 57 %\n",
      "\n",
      "[Epoch number : 8, Mini-batches: 1000, Loss: 1.2126864921152591]\n",
      "[Epoch number : 8, Mini-batches: 2000, Loss: 1.2159977155923842]\n",
      "[Epoch number : 8, Mini-batches: 3000, Loss: 1.214943450152874]\n",
      "[Epoch number : 8, Mini-batches: 4000, Loss: 1.2460908486247062]\n",
      "[Epoch number : 8, Mini-batches: 5000, Loss: 1.2133680787831544]\n",
      "[Epoch number : 8, Mini-batches: 6000, Loss: 1.2060394721329213]\n",
      "\n",
      "LeNet accuracy on 10000 images from test dataset: 55 %\n",
      "\n",
      "[Epoch number : 9, Mini-batches: 1000, Loss: 1.2000432968735695]\n",
      "[Epoch number : 9, Mini-batches: 2000, Loss: 1.2123333288133145]\n",
      "[Epoch number : 9, Mini-batches: 3000, Loss: 1.1973999146968126]\n",
      "[Epoch number : 9, Mini-batches: 4000, Loss: 1.197093947470188]\n",
      "[Epoch number : 9, Mini-batches: 5000, Loss: 1.198250825881958]\n",
      "[Epoch number : 9, Mini-batches: 6000, Loss: 1.1854178024232387]\n",
      "\n",
      "LeNet accuracy on 10000 images from test dataset: 58 %\n",
      "\n",
      "[Epoch number : 10, Mini-batches: 1000, Loss: 1.1702894897460938]\n",
      "[Epoch number : 10, Mini-batches: 2000, Loss: 1.1763461256623269]\n",
      "[Epoch number : 10, Mini-batches: 3000, Loss: 1.1867787958085536]\n",
      "[Epoch number : 10, Mini-batches: 4000, Loss: 1.1591518276631831]\n",
      "[Epoch number : 10, Mini-batches: 5000, Loss: 1.1759879340976476]\n",
      "[Epoch number : 10, Mini-batches: 6000, Loss: 1.17711766384542]\n",
      "\n",
      "LeNet accuracy on 10000 images from test dataset: 58 %\n",
      "\n",
      "[Epoch number : 11, Mini-batches: 1000, Loss: 1.1644072058945893]\n",
      "[Epoch number : 11, Mini-batches: 2000, Loss: 1.1417599615454674]\n",
      "[Epoch number : 11, Mini-batches: 3000, Loss: 1.1537924350500106]\n",
      "[Epoch number : 11, Mini-batches: 4000, Loss: 1.173462269604206]\n",
      "[Epoch number : 11, Mini-batches: 5000, Loss: 1.1694519044160843]\n",
      "[Epoch number : 11, Mini-batches: 6000, Loss: 1.1410537563562393]\n",
      "\n",
      "LeNet accuracy on 10000 images from test dataset: 58 %\n",
      "\n",
      "[Epoch number : 12, Mini-batches: 1000, Loss: 1.1496371890753507]\n",
      "[Epoch number : 12, Mini-batches: 2000, Loss: 1.119409471794963]\n",
      "[Epoch number : 12, Mini-batches: 3000, Loss: 1.1314362415075303]\n",
      "[Epoch number : 12, Mini-batches: 4000, Loss: 1.1399699428677559]\n",
      "[Epoch number : 12, Mini-batches: 5000, Loss: 1.1363788321316242]\n",
      "[Epoch number : 12, Mini-batches: 6000, Loss: 1.1622154438495635]\n",
      "\n",
      "LeNet accuracy on 10000 images from test dataset: 57 %\n",
      "\n",
      "[Epoch number : 13, Mini-batches: 1000, Loss: 1.1278691825568676]\n",
      "[Epoch number : 13, Mini-batches: 2000, Loss: 1.1353317920267583]\n",
      "[Epoch number : 13, Mini-batches: 3000, Loss: 1.1169396966099738]\n",
      "[Epoch number : 13, Mini-batches: 4000, Loss: 1.1281247625947]\n",
      "[Epoch number : 13, Mini-batches: 5000, Loss: 1.1259318776130676]\n",
      "[Epoch number : 13, Mini-batches: 6000, Loss: 1.1255797879099847]\n",
      "\n",
      "LeNet accuracy on 10000 images from test dataset: 59 %\n",
      "\n",
      "[Epoch number : 14, Mini-batches: 1000, Loss: 1.1230438594520091]\n",
      "[Epoch number : 14, Mini-batches: 2000, Loss: 1.12706780102849]\n",
      "[Epoch number : 14, Mini-batches: 3000, Loss: 1.1206381633728744]\n",
      "[Epoch number : 14, Mini-batches: 4000, Loss: 1.1078559631556273]\n",
      "[Epoch number : 14, Mini-batches: 5000, Loss: 1.1051923385411502]\n",
      "[Epoch number : 14, Mini-batches: 6000, Loss: 1.1055727311074734]\n",
      "\n",
      "LeNet accuracy on 10000 images from test dataset: 59 %\n",
      "\n",
      "[Epoch number : 15, Mini-batches: 1000, Loss: 1.1092965440452098]\n",
      "[Epoch number : 15, Mini-batches: 2000, Loss: 1.1121153451800347]\n",
      "[Epoch number : 15, Mini-batches: 3000, Loss: 1.1125086883753539]\n",
      "[Epoch number : 15, Mini-batches: 4000, Loss: 1.1013100745528936]\n",
      "[Epoch number : 15, Mini-batches: 5000, Loss: 1.1297998493015766]\n",
      "[Epoch number : 15, Mini-batches: 6000, Loss: 1.1137084114253522]\n",
      "\n",
      "LeNet accuracy on 10000 images from test dataset: 60 %\n",
      "\n",
      "[Epoch number : 16, Mini-batches: 1000, Loss: 1.1048614319562913]\n",
      "[Epoch number : 16, Mini-batches: 2000, Loss: 1.0954103368967771]\n",
      "[Epoch number : 16, Mini-batches: 3000, Loss: 1.100284921079874]\n",
      "[Epoch number : 16, Mini-batches: 4000, Loss: 1.1173419257551431]\n",
      "[Epoch number : 16, Mini-batches: 5000, Loss: 1.0799304827973246]\n",
      "[Epoch number : 16, Mini-batches: 6000, Loss: 1.1008123467862605]\n",
      "\n",
      "LeNet accuracy on 10000 images from test dataset: 60 %\n",
      "\n",
      "[Epoch number : 17, Mini-batches: 1000, Loss: 1.0979543807655572]\n",
      "[Epoch number : 17, Mini-batches: 2000, Loss: 1.0846219507157802]\n",
      "[Epoch number : 17, Mini-batches: 3000, Loss: 1.110537288442254]\n",
      "[Epoch number : 17, Mini-batches: 4000, Loss: 1.0828022790402174]\n",
      "[Epoch number : 17, Mini-batches: 5000, Loss: 1.0763914580196141]\n",
      "[Epoch number : 17, Mini-batches: 6000, Loss: 1.1242438973337412]\n",
      "\n",
      "LeNet accuracy on 10000 images from test dataset: 61 %\n",
      "\n",
      "[Epoch number : 18, Mini-batches: 1000, Loss: 1.0697051789909602]\n",
      "[Epoch number : 18, Mini-batches: 2000, Loss: 1.0597056788653136]\n",
      "[Epoch number : 18, Mini-batches: 3000, Loss: 1.0817474793344737]\n",
      "[Epoch number : 18, Mini-batches: 4000, Loss: 1.1017092861831188]\n",
      "[Epoch number : 18, Mini-batches: 5000, Loss: 1.0926317991912364]\n",
      "[Epoch number : 18, Mini-batches: 6000, Loss: 1.0906193800121546]\n",
      "\n",
      "LeNet accuracy on 10000 images from test dataset: 61 %\n",
      "\n",
      "[Epoch number : 19, Mini-batches: 1000, Loss: 1.0885491270124912]\n",
      "[Epoch number : 19, Mini-batches: 2000, Loss: 1.0702882499620319]\n",
      "[Epoch number : 19, Mini-batches: 3000, Loss: 1.0800930949300527]\n",
      "[Epoch number : 19, Mini-batches: 4000, Loss: 1.082069014057517]\n",
      "[Epoch number : 19, Mini-batches: 5000, Loss: 1.0775753370076417]\n",
      "[Epoch number : 19, Mini-batches: 6000, Loss: 1.0715164015889167]\n",
      "\n",
      "LeNet accuracy on 10000 images from test dataset: 59 %\n",
      "\n",
      "[Epoch number : 20, Mini-batches: 1000, Loss: 1.0827284281998872]\n",
      "[Epoch number : 20, Mini-batches: 2000, Loss: 1.0726583199352027]\n",
      "[Epoch number : 20, Mini-batches: 3000, Loss: 1.0766219555288554]\n",
      "[Epoch number : 20, Mini-batches: 4000, Loss: 1.0779535458832978]\n",
      "[Epoch number : 20, Mini-batches: 5000, Loss: 1.0550839385539292]\n",
      "[Epoch number : 20, Mini-batches: 6000, Loss: 1.0706617448031903]\n",
      "\n",
      "LeNet accuracy on 10000 images from test dataset: 62 %\n",
      "\n",
      "[Epoch number : 21, Mini-batches: 1000, Loss: 1.0440322252959013]\n",
      "[Epoch number : 21, Mini-batches: 2000, Loss: 1.0667871854156257]\n",
      "[Epoch number : 21, Mini-batches: 3000, Loss: 1.083090676933527]\n",
      "[Epoch number : 21, Mini-batches: 4000, Loss: 1.080267505273223]\n",
      "[Epoch number : 21, Mini-batches: 5000, Loss: 1.0668514887914062]\n",
      "[Epoch number : 21, Mini-batches: 6000, Loss: 1.0828438548445702]\n",
      "\n",
      "LeNet accuracy on 10000 images from test dataset: 62 %\n",
      "\n",
      "[Epoch number : 22, Mini-batches: 1000, Loss: 1.0525348937958479]\n",
      "[Epoch number : 22, Mini-batches: 2000, Loss: 1.0500157602876425]\n",
      "[Epoch number : 22, Mini-batches: 3000, Loss: 1.0750823813676833]\n",
      "[Epoch number : 22, Mini-batches: 4000, Loss: 1.074289088577032]\n",
      "[Epoch number : 22, Mini-batches: 5000, Loss: 1.0625083652883769]\n",
      "[Epoch number : 22, Mini-batches: 6000, Loss: 1.0627842944711448]\n",
      "\n",
      "LeNet accuracy on 10000 images from test dataset: 61 %\n",
      "\n",
      "[Epoch number : 23, Mini-batches: 1000, Loss: 1.0408297817856074]\n",
      "[Epoch number : 23, Mini-batches: 2000, Loss: 1.0508086095154285]\n",
      "[Epoch number : 23, Mini-batches: 3000, Loss: 1.0521896173655987]\n",
      "[Epoch number : 23, Mini-batches: 4000, Loss: 1.051912135079503]\n",
      "[Epoch number : 23, Mini-batches: 5000, Loss: 1.0480737218409777]\n",
      "[Epoch number : 23, Mini-batches: 6000, Loss: 1.0504557072520255]\n",
      "\n",
      "LeNet accuracy on 10000 images from test dataset: 60 %\n",
      "\n",
      "[Epoch number : 24, Mini-batches: 1000, Loss: 1.0175882079675793]\n",
      "[Epoch number : 24, Mini-batches: 2000, Loss: 1.0610955839306115]\n",
      "[Epoch number : 24, Mini-batches: 3000, Loss: 1.0355859399586915]\n",
      "[Epoch number : 24, Mini-batches: 4000, Loss: 1.0564809664338828]\n",
      "[Epoch number : 24, Mini-batches: 5000, Loss: 1.0643433006703853]\n",
      "[Epoch number : 24, Mini-batches: 6000, Loss: 1.0531553105264901]\n",
      "\n",
      "LeNet accuracy on 10000 images from test dataset: 62 %\n",
      "\n",
      "[Epoch number : 25, Mini-batches: 1000, Loss: 1.0455342063307762]\n",
      "[Epoch number : 25, Mini-batches: 2000, Loss: 1.0419290293753147]\n",
      "[Epoch number : 25, Mini-batches: 3000, Loss: 1.0357491393834353]\n",
      "[Epoch number : 25, Mini-batches: 4000, Loss: 1.0462140549272299]\n",
      "[Epoch number : 25, Mini-batches: 5000, Loss: 1.0439320893883706]\n",
      "[Epoch number : 25, Mini-batches: 6000, Loss: 1.0382034499645234]\n",
      "\n",
      "LeNet accuracy on 10000 images from test dataset: 62 %\n",
      "\n",
      "[Epoch number : 26, Mini-batches: 1000, Loss: 1.0364184842705726]\n",
      "[Epoch number : 26, Mini-batches: 2000, Loss: 1.0405504887253045]\n",
      "[Epoch number : 26, Mini-batches: 3000, Loss: 1.0156438725292682]\n",
      "[Epoch number : 26, Mini-batches: 4000, Loss: 1.0486168306022883]\n",
      "[Epoch number : 26, Mini-batches: 5000, Loss: 1.0639732591807842]\n",
      "[Epoch number : 26, Mini-batches: 6000, Loss: 1.0467897926419973]\n",
      "\n",
      "LeNet accuracy on 10000 images from test dataset: 60 %\n",
      "\n",
      "[Epoch number : 27, Mini-batches: 1000, Loss: 1.0377131711542606]\n",
      "[Epoch number : 27, Mini-batches: 2000, Loss: 1.0332546560764313]\n",
      "[Epoch number : 27, Mini-batches: 3000, Loss: 1.0397892520725727]\n",
      "[Epoch number : 27, Mini-batches: 4000, Loss: 1.0374000570774078]\n",
      "[Epoch number : 27, Mini-batches: 5000, Loss: 1.0290068240761756]\n",
      "[Epoch number : 27, Mini-batches: 6000, Loss: 1.0411643880158663]\n",
      "\n",
      "LeNet accuracy on 10000 images from test dataset: 63 %\n",
      "\n",
      "[Epoch number : 28, Mini-batches: 1000, Loss: 1.0445784910917282]\n",
      "[Epoch number : 28, Mini-batches: 2000, Loss: 1.0328079010546207]\n",
      "[Epoch number : 28, Mini-batches: 3000, Loss: 1.031715646326542]\n",
      "[Epoch number : 28, Mini-batches: 4000, Loss: 1.0359785616993904]\n",
      "[Epoch number : 28, Mini-batches: 5000, Loss: 1.028704213514924]\n",
      "[Epoch number : 28, Mini-batches: 6000, Loss: 1.0193489105403424]\n",
      "\n",
      "LeNet accuracy on 10000 images from test dataset: 61 %\n",
      "\n",
      "[Epoch number : 29, Mini-batches: 1000, Loss: 1.0540843562707305]\n",
      "[Epoch number : 29, Mini-batches: 2000, Loss: 1.028539499565959]\n",
      "[Epoch number : 29, Mini-batches: 3000, Loss: 1.0444145382717251]\n",
      "[Epoch number : 29, Mini-batches: 4000, Loss: 1.0400284311324357]\n",
      "[Epoch number : 29, Mini-batches: 5000, Loss: 1.0219606322422623]\n",
      "[Epoch number : 29, Mini-batches: 6000, Loss: 1.007683876954019]\n",
      "\n",
      "LeNet accuracy on 10000 images from test dataset: 63 %\n",
      "\n",
      "[Epoch number : 30, Mini-batches: 1000, Loss: 1.0371206129789352]\n",
      "[Epoch number : 30, Mini-batches: 2000, Loss: 1.007104254461825]\n",
      "[Epoch number : 30, Mini-batches: 3000, Loss: 1.022346684858203]\n",
      "[Epoch number : 30, Mini-batches: 4000, Loss: 1.0396800969392062]\n",
      "[Epoch number : 30, Mini-batches: 5000, Loss: 1.0222860775589944]\n",
      "[Epoch number : 30, Mini-batches: 6000, Loss: 1.004729726858437]\n",
      "\n",
      "LeNet accuracy on 10000 images from test dataset: 63 %\n",
      "\n",
      "[Epoch number : 31, Mini-batches: 1000, Loss: 1.0041736288964749]\n",
      "[Epoch number : 31, Mini-batches: 2000, Loss: 1.0160878364145756]\n",
      "[Epoch number : 31, Mini-batches: 3000, Loss: 1.0395177131146192]\n",
      "[Epoch number : 31, Mini-batches: 4000, Loss: 1.0202516989260912]\n",
      "[Epoch number : 31, Mini-batches: 5000, Loss: 1.0244689094126225]\n",
      "[Epoch number : 31, Mini-batches: 6000, Loss: 1.0258987176418304]\n",
      "\n",
      "LeNet accuracy on 10000 images from test dataset: 63 %\n",
      "\n",
      "[Epoch number : 32, Mini-batches: 1000, Loss: 1.0186546911597252]\n",
      "[Epoch number : 32, Mini-batches: 2000, Loss: 1.0055174275636674]\n",
      "[Epoch number : 32, Mini-batches: 3000, Loss: 1.022568800792098]\n",
      "[Epoch number : 32, Mini-batches: 4000, Loss: 1.0276862787231802]\n",
      "[Epoch number : 32, Mini-batches: 5000, Loss: 1.0057589543610812]\n",
      "[Epoch number : 32, Mini-batches: 6000, Loss: 1.0275553517639637]\n",
      "\n",
      "LeNet accuracy on 10000 images from test dataset: 63 %\n",
      "\n",
      "[Epoch number : 33, Mini-batches: 1000, Loss: 1.0044875207915902]\n",
      "[Epoch number : 33, Mini-batches: 2000, Loss: 1.040191928870976]\n",
      "[Epoch number : 33, Mini-batches: 3000, Loss: 1.003073862813413]\n",
      "[Epoch number : 33, Mini-batches: 4000, Loss: 1.027973796978593]\n",
      "[Epoch number : 33, Mini-batches: 5000, Loss: 1.0310139264389873]\n",
      "[Epoch number : 33, Mini-batches: 6000, Loss: 1.0107013316750526]\n",
      "\n",
      "LeNet accuracy on 10000 images from test dataset: 61 %\n",
      "\n",
      "[Epoch number : 34, Mini-batches: 1000, Loss: 0.9925923159718514]\n",
      "[Epoch number : 34, Mini-batches: 2000, Loss: 1.02428216278553]\n",
      "[Epoch number : 34, Mini-batches: 3000, Loss: 1.0048451695144176]\n",
      "[Epoch number : 34, Mini-batches: 4000, Loss: 1.0204485095441342]\n",
      "[Epoch number : 34, Mini-batches: 5000, Loss: 1.0133868864178657]\n",
      "[Epoch number : 34, Mini-batches: 6000, Loss: 1.0064837761074306]\n",
      "\n",
      "LeNet accuracy on 10000 images from test dataset: 64 %\n",
      "\n",
      "[Epoch number : 35, Mini-batches: 1000, Loss: 0.9890553532093763]\n",
      "[Epoch number : 35, Mini-batches: 2000, Loss: 1.0100825936421751]\n",
      "[Epoch number : 35, Mini-batches: 3000, Loss: 1.0113349283412099]\n",
      "[Epoch number : 35, Mini-batches: 4000, Loss: 1.0242472804263234]\n",
      "[Epoch number : 35, Mini-batches: 5000, Loss: 1.0101633069515228]\n",
      "[Epoch number : 35, Mini-batches: 6000, Loss: 1.0017000799253584]\n",
      "\n",
      "LeNet accuracy on 10000 images from test dataset: 64 %\n",
      "\n",
      "[Epoch number : 36, Mini-batches: 1000, Loss: 1.0230934545323254]\n",
      "[Epoch number : 36, Mini-batches: 2000, Loss: 1.0112843741327524]\n",
      "[Epoch number : 36, Mini-batches: 3000, Loss: 1.0064194436073304]\n",
      "[Epoch number : 36, Mini-batches: 4000, Loss: 1.0033474104106426]\n",
      "[Epoch number : 36, Mini-batches: 5000, Loss: 0.9960950066298246]\n",
      "[Epoch number : 36, Mini-batches: 6000, Loss: 1.018115856513381]\n",
      "\n",
      "LeNet accuracy on 10000 images from test dataset: 63 %\n",
      "\n",
      "[Epoch number : 37, Mini-batches: 1000, Loss: 1.0050194787830113]\n",
      "[Epoch number : 37, Mini-batches: 2000, Loss: 1.0028210314512254]\n",
      "[Epoch number : 37, Mini-batches: 3000, Loss: 1.000451198257506]\n",
      "[Epoch number : 37, Mini-batches: 4000, Loss: 1.0134002157896758]\n",
      "[Epoch number : 37, Mini-batches: 5000, Loss: 0.9943473697826266]\n",
      "[Epoch number : 37, Mini-batches: 6000, Loss: 1.0208786028325558]\n",
      "\n",
      "LeNet accuracy on 10000 images from test dataset: 63 %\n",
      "\n",
      "[Epoch number : 38, Mini-batches: 1000, Loss: 1.024598128154874]\n",
      "[Epoch number : 38, Mini-batches: 2000, Loss: 0.9993644131422043]\n",
      "[Epoch number : 38, Mini-batches: 3000, Loss: 1.004183040201664]\n",
      "[Epoch number : 38, Mini-batches: 4000, Loss: 0.9966508861333132]\n",
      "[Epoch number : 38, Mini-batches: 5000, Loss: 0.9897378423511982]\n",
      "[Epoch number : 38, Mini-batches: 6000, Loss: 1.0131939702183008]\n",
      "\n",
      "LeNet accuracy on 10000 images from test dataset: 64 %\n",
      "\n",
      "[Epoch number : 39, Mini-batches: 1000, Loss: 1.0105958463475109]\n",
      "[Epoch number : 39, Mini-batches: 2000, Loss: 1.0005870603770017]\n",
      "[Epoch number : 39, Mini-batches: 3000, Loss: 0.9935782193765044]\n",
      "[Epoch number : 39, Mini-batches: 4000, Loss: 0.9817705975398421]\n",
      "[Epoch number : 39, Mini-batches: 5000, Loss: 1.001251262933016]\n",
      "[Epoch number : 39, Mini-batches: 6000, Loss: 1.0084023588746787]\n",
      "\n",
      "LeNet accuracy on 10000 images from test dataset: 64 %\n",
      "\n",
      "[Epoch number : 40, Mini-batches: 1000, Loss: 0.9763429012224079]\n",
      "[Epoch number : 40, Mini-batches: 2000, Loss: 1.0067233364284038]\n",
      "[Epoch number : 40, Mini-batches: 3000, Loss: 1.0113128263130784]\n",
      "[Epoch number : 40, Mini-batches: 4000, Loss: 1.0151665042862297]\n",
      "[Epoch number : 40, Mini-batches: 5000, Loss: 1.0164947063177825]\n",
      "[Epoch number : 40, Mini-batches: 6000, Loss: 0.9998418158590794]\n",
      "\n",
      "LeNet accuracy on 10000 images from test dataset: 64 %\n",
      "\n",
      "[Epoch number : 41, Mini-batches: 1000, Loss: 0.9928491208702326]\n",
      "[Epoch number : 41, Mini-batches: 2000, Loss: 0.9705026790946722]\n",
      "[Epoch number : 41, Mini-batches: 3000, Loss: 0.9825321641415358]\n",
      "[Epoch number : 41, Mini-batches: 4000, Loss: 1.0002038025483488]\n",
      "[Epoch number : 41, Mini-batches: 5000, Loss: 1.0154678589329122]\n",
      "[Epoch number : 41, Mini-batches: 6000, Loss: 0.9932003073692321]\n",
      "\n",
      "LeNet accuracy on 10000 images from test dataset: 62 %\n",
      "\n",
      "[Epoch number : 42, Mini-batches: 1000, Loss: 0.9737237217128277]\n",
      "[Epoch number : 42, Mini-batches: 2000, Loss: 1.0001954791396857]\n",
      "[Epoch number : 42, Mini-batches: 3000, Loss: 0.9894507624134421]\n",
      "[Epoch number : 42, Mini-batches: 4000, Loss: 0.991668684348464]\n",
      "[Epoch number : 42, Mini-batches: 5000, Loss: 0.9986421463936568]\n",
      "[Epoch number : 42, Mini-batches: 6000, Loss: 0.9884399222284556]\n",
      "\n",
      "LeNet accuracy on 10000 images from test dataset: 64 %\n",
      "\n",
      "[Epoch number : 43, Mini-batches: 1000, Loss: 1.0044622069597244]\n",
      "[Epoch number : 43, Mini-batches: 2000, Loss: 0.9919440236054361]\n",
      "[Epoch number : 43, Mini-batches: 3000, Loss: 1.0012965099141002]\n",
      "[Epoch number : 43, Mini-batches: 4000, Loss: 0.9798955136165023]\n",
      "[Epoch number : 43, Mini-batches: 5000, Loss: 0.9878217318058014]\n",
      "[Epoch number : 43, Mini-batches: 6000, Loss: 1.0051293018460274]\n",
      "\n",
      "LeNet accuracy on 10000 images from test dataset: 64 %\n",
      "\n",
      "[Epoch number : 44, Mini-batches: 1000, Loss: 0.9903432456552982]\n",
      "[Epoch number : 44, Mini-batches: 2000, Loss: 1.003013767376542]\n",
      "[Epoch number : 44, Mini-batches: 3000, Loss: 0.9884242432564497]\n",
      "[Epoch number : 44, Mini-batches: 4000, Loss: 0.9974910294264555]\n",
      "[Epoch number : 44, Mini-batches: 5000, Loss: 1.0176042108237744]\n",
      "[Epoch number : 44, Mini-batches: 6000, Loss: 1.002712143331766]\n",
      "\n",
      "LeNet accuracy on 10000 images from test dataset: 65 %\n",
      "\n",
      "[Epoch number : 45, Mini-batches: 1000, Loss: 0.9767310249060392]\n",
      "[Epoch number : 45, Mini-batches: 2000, Loss: 0.993003629103303]\n",
      "[Epoch number : 45, Mini-batches: 3000, Loss: 1.0003535648584365]\n",
      "[Epoch number : 45, Mini-batches: 4000, Loss: 0.9735644911825657]\n",
      "[Epoch number : 45, Mini-batches: 5000, Loss: 0.982489608541131]\n",
      "[Epoch number : 45, Mini-batches: 6000, Loss: 0.9876068364456296]\n",
      "\n",
      "LeNet accuracy on 10000 images from test dataset: 64 %\n",
      "\n",
      "[Epoch number : 46, Mini-batches: 1000, Loss: 1.0003624711334704]\n",
      "[Epoch number : 46, Mini-batches: 2000, Loss: 0.9902051439732313]\n",
      "[Epoch number : 46, Mini-batches: 3000, Loss: 0.9696037146300077]\n",
      "[Epoch number : 46, Mini-batches: 4000, Loss: 0.9924141573682428]\n",
      "[Epoch number : 46, Mini-batches: 5000, Loss: 0.9820291846394539]\n",
      "[Epoch number : 46, Mini-batches: 6000, Loss: 1.0038381870090962]\n",
      "\n",
      "LeNet accuracy on 10000 images from test dataset: 64 %\n",
      "\n",
      "[Epoch number : 47, Mini-batches: 1000, Loss: 0.9742638617642224]\n",
      "[Epoch number : 47, Mini-batches: 2000, Loss: 0.9737466957122087]\n",
      "[Epoch number : 47, Mini-batches: 3000, Loss: 0.9807159136086703]\n",
      "[Epoch number : 47, Mini-batches: 4000, Loss: 0.9933630297183991]\n",
      "[Epoch number : 47, Mini-batches: 5000, Loss: 0.9902177959680557]\n",
      "[Epoch number : 47, Mini-batches: 6000, Loss: 0.9978185521811247]\n",
      "\n",
      "LeNet accuracy on 10000 images from test dataset: 63 %\n",
      "\n",
      "[Epoch number : 48, Mini-batches: 1000, Loss: 0.976921876758337]\n",
      "[Epoch number : 48, Mini-batches: 2000, Loss: 0.9919468600153923]\n",
      "[Epoch number : 48, Mini-batches: 3000, Loss: 0.9657202971726656]\n",
      "[Epoch number : 48, Mini-batches: 4000, Loss: 0.9955159751474857]\n",
      "[Epoch number : 48, Mini-batches: 5000, Loss: 0.9705217340365052]\n",
      "[Epoch number : 48, Mini-batches: 6000, Loss: 0.9906089350059628]\n",
      "\n",
      "LeNet accuracy on 10000 images from test dataset: 64 %\n",
      "\n",
      "[Epoch number : 49, Mini-batches: 1000, Loss: 0.9769472298920154]\n",
      "[Epoch number : 49, Mini-batches: 2000, Loss: 0.9894657936096192]\n",
      "[Epoch number : 49, Mini-batches: 3000, Loss: 0.9950679087862372]\n",
      "[Epoch number : 49, Mini-batches: 4000, Loss: 0.9833087679222227]\n",
      "[Epoch number : 49, Mini-batches: 5000, Loss: 0.9789027628749609]\n",
      "[Epoch number : 49, Mini-batches: 6000, Loss: 0.9786889360547065]\n",
      "\n",
      "LeNet accuracy on 10000 images from test dataset: 64 %\n",
      "\n",
      "[Epoch number : 50, Mini-batches: 1000, Loss: 0.9884127020165324]\n",
      "[Epoch number : 50, Mini-batches: 2000, Loss: 0.9900307356119156]\n",
      "[Epoch number : 50, Mini-batches: 3000, Loss: 0.9798784518837929]\n",
      "[Epoch number : 50, Mini-batches: 4000, Loss: 0.9749962713122368]\n",
      "[Epoch number : 50, Mini-batches: 5000, Loss: 0.9933951042592526]\n",
      "[Epoch number : 50, Mini-batches: 6000, Loss: 0.9838605129886419]\n",
      "\n",
      "LeNet accuracy on 10000 images from test dataset: 64 %\n",
      "\n",
      "Finished Training\n"
     ]
    }
   ],
   "source": [
    "lenet = LeNet()\n",
    "loss_fn = nn.CrossEntropyLoss()\n",
    "optim = torch.optim.Adam(lenet.parameters(), lr=0.001)\n",
    "\n",
    "\n",
    "for epoch in range(50):\n",
    "    train(lenet, train_data_loader, optim, loss_fn, epoch)\n",
    "    print()\n",
    "    test(lenet, test_data_loader)\n",
    "    print()\n",
    "print(\"Finished Training\")"
   ]
  },
  {
   "cell_type": "code",
   "execution_count": 18,
   "metadata": {},
   "outputs": [],
   "source": [
    "model_path = \"models/lenet.pth\"\n",
    "torch.save(lenet.state_dict(), model_path)"
   ]
  },
  {
   "cell_type": "code",
   "execution_count": 23,
   "metadata": {},
   "outputs": [
    {
     "data": {
      "text/plain": [
       "<All keys matched successfully>"
      ]
     },
     "execution_count": 23,
     "metadata": {},
     "output_type": "execute_result"
    }
   ],
   "source": [
    "lenet_cached = LeNet()\n",
    "lenet_cached.load_state_dict(torch.load(model_path, weights_only=False))\n"
   ]
  },
  {
   "cell_type": "code",
   "execution_count": 35,
   "metadata": {},
   "outputs": [],
   "source": [
    "d_iter = iter(test_data_loader)\n",
    "X_test, y_test = next(d_iter)\n",
    "y_pred = lenet_cached(X_test)\n",
    "class_pred = torch.argmax(y_pred, dim=1)"
   ]
  },
  {
   "cell_type": "code",
   "execution_count": 36,
   "metadata": {},
   "outputs": [
    {
     "data": {
      "image/png": "[encoded data removed]",
      "text/plain": [
       "<Figure size 400x400 with 4 Axes>"
      ]
     },
     "metadata": {},
     "output_type": "display_data"
    }
   ],
   "source": [
    "fig, axs = plt.subplots(2, 2, figsize=(4, 4))\n",
    "\n",
    "fig.tight_layout()\n",
    "axs = axs.flatten()\n",
    "\n",
    "for i in range(4):\n",
    "    show_image(X_test[i], classes[class_pred[i]], axs[i])\n",
    "plt.show()"
   ]
  },
  {
   "cell_type": "code",
   "execution_count": 39,
   "metadata": {},
   "outputs": [
    {
     "data": {
      "text/plain": [
       "tensor([3, 1, 8,  ..., 5, 1, 7])"
      ]
     },
     "execution_count": 39,
     "metadata": {},
     "output_type": "execute_result"
    }
   ],
   "source": [
    "class_pred"
   ]
  },
  {
   "cell_type": "code",
   "execution_count": 41,
   "metadata": {},
   "outputs": [
    {
     "data": {
      "text/plain": [
       "tensor([3, 8, 8,  ..., 5, 1, 7])"
      ]
     },
     "execution_count": 41,
     "metadata": {},
     "output_type": "execute_result"
    }
   ],
   "source": [
    "y_test"
   ]
  },
  {
   "cell_type": "code",
   "execution_count": 57,
   "metadata": {},
   "outputs": [
    {
     "name": "stdout",
     "output_type": "stream",
     "text": [
      "Overall accuracy: 64.34%\n"
     ]
    }
   ],
   "source": [
    "overall_accuracy = torch.mean((class_pred == y_test).float(), dim=0).item() * 100\n",
    "\n",
    "print(f\"Overall accuracy: {overall_accuracy:.2f}%\")"
   ]
  },
  {
   "cell_type": "code",
   "execution_count": 47,
   "metadata": {},
   "outputs": [
    {
     "data": {
      "text/plain": [
       "tensor([ True, False,  True,  ...,  True,  True,  True])"
      ]
     },
     "execution_count": 47,
     "metadata": {},
     "output_type": "execute_result"
    }
   ],
   "source": [
    "classe"
   ]
  },
  {
   "cell_type": "code",
   "execution_count": 78,
   "metadata": {},
   "outputs": [
    {
     "name": "stdout",
     "output_type": "stream",
     "text": [
      "Accuracy for class plane: 63.50%\n",
      "Accuracy for class car: 82.70%\n",
      "Accuracy for class bird: 52.50%\n",
      "Accuracy for class cat: 31.20%\n",
      "Accuracy for class deer: 55.00%\n",
      "Accuracy for class dog: 67.20%\n",
      "Accuracy for class frog: 75.00%\n",
      "Accuracy for class horse: 72.90%\n",
      "Accuracy for class ship: 73.80%\n",
      "Accuracy for class truck: 69.60%\n"
     ]
    }
   ],
   "source": [
    "for i in range(10):\n",
    "    mask = y_test == i\n",
    "    accuracy = (class_pred[mask] == i).float().mean().item() * 100\n",
    "    print(f\"Accuracy for class {classes[i]}: {accuracy:.2f}%\")"
   ]
  },
  {
   "cell_type": "code",
   "execution_count": 73,
   "metadata": {},
   "outputs": [
    {
     "data": {
      "text/plain": [
       "tensor([False, False, False,  ..., False, False, False])"
      ]
     },
     "execution_count": 73,
     "metadata": {},
     "output_type": "execute_result"
    }
   ],
   "source": [
    "class_pred == 11"
   ]
  },
  {
   "cell_type": "code",
   "execution_count": 77,
   "metadata": {},
   "outputs": [
    {
     "data": {
      "text/plain": [
       "tensor([0, 1, 2, 3, 4, 5, 6, 7, 8, 9])"
      ]
     },
     "execution_count": 77,
     "metadata": {},
     "output_type": "execute_result"
    }
   ],
   "source": [
    "torch.unique(y_test)"
   ]
  }
 ],
 "metadata": {
  "kernelspec": {
   "display_name": "pytorch-ultimate-_SaUV9tD-py3.11",
   "language": "python",
   "name": "python3"
  },
  "language_info": {
   "codemirror_mode": {
    "name": "ipython",
    "version": 3
   },
   "file_extension": ".py",
   "mimetype": "text/x-python",
   "name": "python",
   "nbconvert_exporter": "python",
   "pygments_lexer": "ipython3",
   "version": "3.11.2"
  }
 },
 "nbformat": 4,
 "nbformat_minor": 2
}
